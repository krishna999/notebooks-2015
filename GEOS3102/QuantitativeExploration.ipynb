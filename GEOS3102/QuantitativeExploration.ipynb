{
 "cells": [
  {
   "cell_type": "markdown",
   "metadata": {
    "slideshow": {
     "slide_type": "slide"
    }
   },
   "source": [
    "# GEOS3102: Global Energy & Resources\n",
    "<br/>\n",
    "### Quantitative approach to basin exploration\n",
    "<br/>\n",
    "#### Weeks 5 & 6"
   ]
  },
  {
   "cell_type": "markdown",
   "metadata": {
    "slideshow": {
     "slide_type": "slide"
    }
   },
   "source": [
    "# Outline\n",
    "<br/>\n",
    "### Sequence stratigraphy concepts"
   ]
  },
  {
   "cell_type": "markdown",
   "metadata": {
    "slideshow": {
     "slide_type": "fragment"
    }
   },
   "source": [
    "### Sediment transport"
   ]
  },
  {
   "cell_type": "markdown",
   "metadata": {
    "slideshow": {
     "slide_type": "fragment"
    }
   },
   "source": [
    "### Analogue modeling of sedimentary basin"
   ]
  },
  {
   "cell_type": "markdown",
   "metadata": {
    "slideshow": {
     "slide_type": "fragment"
    }
   },
   "source": [
    "### Quantitative seismic interpretation"
   ]
  },
  {
   "cell_type": "markdown",
   "metadata": {
    "slideshow": {
     "slide_type": "fragment"
    }
   },
   "source": [
    "### Stratigraphic forward modelling"
   ]
  },
  {
   "cell_type": "markdown",
   "metadata": {
    "collapsed": true,
    "slideshow": {
     "slide_type": "slide"
    }
   },
   "source": [
    "# Energy Balance "
   ]
  },
  {
   "cell_type": "code",
   "execution_count": 1,
   "metadata": {
    "collapsed": false,
    "slideshow": {
     "slide_type": "-"
    }
   },
   "outputs": [
    {
     "data": {
      "text/html": [
       "<center><iframe src=http://www.iea.org/sankey/#?c=World&s=Balance width=1000 height=800></iframe></center>"
      ],
      "text/plain": [
       "<IPython.core.display.HTML object>"
      ]
     },
     "execution_count": 1,
     "metadata": {},
     "output_type": "execute_result"
    }
   ],
   "source": [
    "from IPython.core.display import HTML\n",
    "HTML('<center><iframe src=http://www.iea.org/sankey/#?c=World&s=Balance width=1000 height=800></iframe></center>')"
   ]
  },
  {
   "cell_type": "markdown",
   "metadata": {
    "slideshow": {
     "slide_type": "slide"
    }
   },
   "source": [
    "# Sequence stratigraphy\n",
    "<br/>\n",
    "<div align=\"center\">\n",
    "    <img width=1000 src=\"http://www.seismicatlas.org/uploaded/image/201309/21916a9a-2153-4ed2-9d89-5d005f5bdea5.jpg\" title=\"Seismic stratigraphy\"</img>\n",
    "    <small>source: [Virtual Seismic Atlas](http://www.seismicatlas.org/entity?id=ba4bfcdc-5596-45a2-a320-88622c9f49b3)</small>\n",
    "</div>\n",
    "\n",
    "---\n",
    "\n",
    "Sequence stratigraphy analyzes the sedimentary response to changes in **base level**, and the depositional trends that emerge from the interplay of **accommodation** and **sedimentation**."
   ]
  },
  {
   "cell_type": "markdown",
   "metadata": {
    "slideshow": {
     "slide_type": "slide"
    }
   },
   "source": [
    "## Sequence stratigraphic framework \n",
    "<br/>\n",
    "<div align=\"center\">\n",
    "    <img width=900 src=\"http://www.sepmstrata.org/CMS_Images/Flow-diagram-sequence-strat.jpg\" title=\"Sequence stratigraphy framework\"</img>\n",
    "    <small>source: [SEPM](http://www.sepmstrata.org/page.aspx?pageid=410)</small>\n",
    "</div>\n",
    "\n",
    "---\n",
    "\n",
    "Information from detailed geological analysis populates a sequence stratigraphic framework so leading to accurate **interpretations of depositional setting** and **predictions of lithofacies geometries** in unknown portions of a basin."
   ]
  },
  {
   "cell_type": "markdown",
   "metadata": {
    "slideshow": {
     "slide_type": "subslide"
    }
   },
   "source": [
    "## Sequence stratigraphic framework \n",
    "<br/>\n",
    "<div align=\"center\">\n",
    "    <img width=700 src=\"http://www.sepmstrata.org/CMS_Images/Analysis.jpg\" title=\"Sequence stratigraphy framework\"</img>\n",
    "    <small>source: [SEPM](http://www.sepmstrata.org/page.aspx?pageid=410)</small>\n",
    "</div>\n",
    "\n",
    "---\n",
    "\n",
    "A **sequence stratigraphic framework** leads to interpretations of depositional setting and predictions of lithofacies geometries.  It extends the interpretation of the depositional setting and predictions of lithofacies’ geometries away from the known areas. <br/> It also aids prediction of sedimentary rocks likely to contain both **hydrocarbon and water resources** and what their characteristic fabrics might be."
   ]
  },
  {
   "cell_type": "markdown",
   "metadata": {
    "slideshow": {
     "slide_type": "subslide"
    }
   },
   "source": [
    "## History of Sequence stratigraphy\n",
    "<br/>\n",
    "<div align=\"center\">\n",
    "    <img width=600 src=\"http://media-2.web.britannica.com/eb-media/23/151223-004-F5C3C6F0.jpg\" title=\"Steno's Law\"</img>\n",
    "    <small>source: [Encyclopedia Britanica](http://en.wikibooks.org/wiki/High_School_Earth_Science/Relative_Ages_of_Rocks)</small>\n",
    "</div>\n",
    "\n",
    "---\n",
    "In 1669, Nicolaus Steno formulated a few basic rules that helped him make sense of the rocks of Tuscany and the various objects contained within them."
   ]
  },
  {
   "cell_type": "markdown",
   "metadata": {
    "slideshow": {
     "slide_type": "subslide"
    }
   },
   "source": [
    "<div align=\"center\">\n",
    "    <img width=1000 src=\"http://earthobservatory.nasa.gov/Features/WilliamSmith/images/sketch_of_the_succession_of_strata.jpg\" title=\"Sketch of stratal succession\"</img>\n",
    "    <small>source: [William Smith - Nasa](http://earthobservatory.nasa.gov/Features/WilliamSmith)</small>\n",
    "</div>\n",
    "\n",
    "---\n",
    "\n",
    "- James Hutton (1726-1797):  Father of Modern Geology \n",
    "    - First described unconformity at Siccar Point in northern Scotland\n",
    "    - In a paper entitled “Theory of The Earth” (1785) Hutton recognized the importance of unconformities \n",
    "    - Also recognized stratigraphic nature of igneous rocks and believed came from molten material within Earth.\n",
    "    "
   ]
  },
  {
   "cell_type": "markdown",
   "metadata": {
    "slideshow": {
     "slide_type": "fragment"
    }
   },
   "source": [
    "- William Smith measured and described outcrop stratigraphy during excavation of transport canals in England beginning in 1791 "
   ]
  },
  {
   "cell_type": "markdown",
   "metadata": {
    "slideshow": {
     "slide_type": "notes"
    }
   },
   "source": [
    "<div align=\"center\">\n",
    "    <img width=600 src=\"http://earthobservatory.nasa.gov/Features/WilliamSmith/images/time_spiral.jpg\" title=\"Time spiral\"</img>\n",
    "    <small>source: [William Smith - Nasa](http://earthobservatory.nasa.gov/Features/WilliamSmith)</small>\n",
    "</div>"
   ]
  },
  {
   "cell_type": "markdown",
   "metadata": {
    "slideshow": {
     "slide_type": "fragment"
    }
   },
   "source": [
    "- Johannes Walther (1892) proposed what is now known as “Walther’s Law of Facies Succession”\n",
    "    - \"Facies adjacent to one another in a continuous vertical sequence also accumulated adjacent to one another laterally\"."
   ]
  },
  {
   "cell_type": "markdown",
   "metadata": {
    "slideshow": {
     "slide_type": "fragment"
    }
   },
   "source": [
    "- Eliot Blackwelder in 1909 published use of unconformities as time markers; introduced concept of time represented by surfaces  \n",
    "    - erosional removal and sedimentary hiatus"
   ]
  },
  {
   "cell_type": "markdown",
   "metadata": {
    "slideshow": {
     "slide_type": "fragment"
    }
   },
   "source": [
    "- Amadeus Grabau 1916 proposed the pulsation theory. "
   ]
  },
  {
   "cell_type": "markdown",
   "metadata": {
    "slideshow": {
     "slide_type": "fragment"
    }
   },
   "source": [
    "- Joseph Barrell in 1917 stated the most fundamental events in geologic history -- the time-space distribution of deposition and non-deposition: <br/> **the alternating rise and fall of Base-level**. "
   ]
  },
  {
   "cell_type": "markdown",
   "metadata": {
    "slideshow": {
     "slide_type": "fragment"
    }
   },
   "source": [
    "- John L. Rich proposed the concept of clinoforms in 1951"
   ]
  },
  {
   "cell_type": "markdown",
   "metadata": {
    "slideshow": {
     "slide_type": "fragment"
    }
   },
   "source": [
    "- Harry Wheeler in 1958 produced first chronostratigraphic chart"
   ]
  },
  {
   "cell_type": "markdown",
   "metadata": {
    "slideshow": {
     "slide_type": "fragment"
    }
   },
   "source": [
    "- In 1963, Lawrence Sloss recognized 6 major sequences in North America controlled by eustatic sea level changes"
   ]
  },
  {
   "cell_type": "markdown",
   "metadata": {
    "slideshow": {
     "slide_type": "fragment"
    }
   },
   "source": [
    "- Peter Vail and Robert Mitchum coordinated the publishing of AAPG Memoir #26 based on the assumption that a seismic relection surface represents a time line."
   ]
  },
  {
   "cell_type": "markdown",
   "metadata": {
    "slideshow": {
     "slide_type": "slide"
    }
   },
   "source": [
    "## Global sea-level curves\n",
    "\n",
    "<div align=\"center\">\n",
    "    <img width=800 src=\"http://www.sciencemag.org/content/310/5752/1293/F2.large.jpg\" title=\"Paleo Sea Level Estimates\"</img>\n",
    "    <small>source: [ScienceMag](http://www.sciencemag.org/content/310/5752/1293/F2.expansion.html)</small>\n",
    "</div>\n",
    "\n",
    "---\n",
    "\n",
    "Sea-level change evolves by cycles there are several orders of cyclicity happening at different frequencies and magnitudes. <br/>\n",
    "**These changes are recorded in the sedimentary architecture. ** "
   ]
  },
  {
   "cell_type": "markdown",
   "metadata": {
    "slideshow": {
     "slide_type": "subslide"
    }
   },
   "source": [
    "## Why is it important?\n",
    "\n",
    "#### Because sea-level controls what sediment is produced and where it is deposited.\n",
    "<br/>\n",
    "<div align=\"center\">\n",
    "    <img width=600 src=\"http://www.sepmstrata.org/CMS_Images/AccommodationOpenU.gif\" title=\"Accommodation\"</img>\n",
    "    <small>source: [TheOpenUniversity](http://www.sepmstrata.org/Terminology.aspx?id=accommodation)</small>\n",
    "</div>\n",
    "\n",
    "---\n",
    "\n",
    "Sea-level controls the space available for _potential sediment accumulation_: **Accommodation Space**. This space is the combined product of movement of:\n",
    "\n",
    "- Global sea-level \n",
    "- Sea floor \n",
    "- Changes in rates of sediment accumulation.\n",
    "\n",
    "The bigger the accommodation space, the bigger the accumulated sediment thicknesses will be --- which in turn means the better the potential reservoir could be. "
   ]
  },
  {
   "cell_type": "markdown",
   "metadata": {
    "slideshow": {
     "slide_type": "subslide"
    }
   },
   "source": [
    "## Balance between sea-level change and sediment flux\n",
    "<br/>\n",
    "<div align=\"center\">\n",
    "    <img width=600 src=\"http://www.sepmstrata.org/CMS_Images/PosAllenReg.gif\" title=\"Accommodation\"</img>\n",
    "    <small>source: [SEPM](http://www.sepmstrata.org/page.aspx?pageid=410)</small>\n",
    "</div>\n",
    "\n",
    "---\n",
    "\n",
    "- If the relative sea level rises and there is a zero or low sediment flux, then **transgression** occurs.\n",
    "- If relative sea level rises and there is a low rate of sediment flux, then **retrogradation** of the coastal sequence parasequence occurs.\n",
    "- If relative sea level rises and the rate of sediment flux matches the sea level rise, then **aggradation** of the coastal parasequence occurs.\n",
    "- If relative sea level rises and the rate of sediment flux exceeds the sea level rise, then **progradation** of the coastal sequence parasequence occurs."
   ]
  },
  {
   "cell_type": "markdown",
   "metadata": {
    "slideshow": {
     "slide_type": "subslide"
    }
   },
   "source": [
    "## System tracts concept\n",
    "\n",
    "<br/>\n",
    "<div align=\"center\">\n",
    "    <img width=600 src=\"http://www.searchanddiscovery.com/documents/2003/dawson/images/305.jpg\" title=\"Accommodation\"</img>\n",
    "    <small>Relation between eustatic cycles, depositional geometry cycles, and systems tracts. source: [SearchDiscovery](http://www.searchanddiscovery.com/documents/2003/dawson/images/305.htm)</small>\n",
    "</div>\n",
    "\n",
    "\n",
    "---\n",
    "\n",
    "**System tracts** come in numerous types and are named according to sea level position/state during deposition.<br/>\n",
    "The 6 most important are:\n",
    "\n",
    "- **LST**: low stand system tract\n",
    "- **HST**: high stand system tract\n",
    "- **TST**: transgressive system tract\n",
    "- **FSST**: Falling stage system tract \n",
    "- **RST**: Regressive system tract \n",
    "- **FRST**: Forced regressive system tract "
   ]
  },
  {
   "cell_type": "markdown",
   "metadata": {
    "slideshow": {
     "slide_type": "subslide"
    }
   },
   "source": [
    "## Sequence boundary\n",
    "\n",
    "<br/>\n",
    "<div align=\"center\">\n",
    "    <img width=600 src=\"http://www.seddepseq.co.uk/SEQ_STRAT/Sequence_Stratigraphy/Picture21.jpg\" title=\"Idealised Cross-section of System Tracts\"</img>\n",
    "    <small>Idealised Cross-section of System Tracts. source: [SedDepSeq](http://www.seddepseq.co.uk/SEQ_STRAT/Sequence_Stratigraphy/sequence_strat_basic.htm)</small>\n",
    "</div>\n",
    "\n",
    "---\n",
    "\n",
    "Sequence boundary (**SB**) envelopes a sequence extending down dip to a correlative conformity (Mitchum, 1977). This surface demarks the boundary between a **highstand systems tract (HST)** and **falling stage systems tract (FSST)** (Catuneanu, et al, 2011)."
   ]
  },
  {
   "cell_type": "markdown",
   "metadata": {
    "slideshow": {
     "slide_type": "subslide"
    }
   },
   "source": [
    "## Sequence boundary from seismic interpretation\n",
    "\n",
    "<br/>\n",
    "<div align=\"center\">\n",
    "    <img width=800 src=\"http://geosphere.geoscienceworld.org/content/9/5/1257/F2.large.jpg\" title=\"IODP seismic interpretation\"</img>\n",
    "    <small>Sequence boundaries are impedance contrasts. source: [Geosphere](http://geosphere.geoscienceworld.org/content/9/5/1257/F2.expansion.html)</small>\n",
    "</div>\n"
   ]
  },
  {
   "cell_type": "code",
   "execution_count": 4,
   "metadata": {
    "collapsed": false,
    "slideshow": {
     "slide_type": "subslide"
    }
   },
   "outputs": [
    {
     "data": {
      "text/html": [
       "\n",
       "        <iframe\n",
       "            width=\"400\"\n",
       "            height=\"300\"\n",
       "            src=\"https://www.youtube.com/embed/yzFenAbmzrE\"\n",
       "            frameborder=\"0\"\n",
       "            allowfullscreen\n",
       "        ></iframe>\n",
       "        "
      ],
      "text/plain": [
       "<IPython.lib.display.YouTubeVideo at 0x7ff30803cc50>"
      ]
     },
     "execution_count": 4,
     "metadata": {},
     "output_type": "execute_result"
    }
   ],
   "source": [
    "from IPython.display import YouTubeVideo\n",
    "# Clastic System Tracts  https://www.youtube.com/watch?v=yzFenAbmzrE\n",
    "YouTubeVideo('yzFenAbmzrE') "
   ]
  },
  {
   "cell_type": "markdown",
   "metadata": {},
   "source": [
    "---\n",
    "\n",
    "- **LST**: low stand system tract\n",
    "- **HST**: high stand system tract\n",
    "- **TST**: transgressive system tract\n",
    "- **FSST**: Falling stage system tract \n",
    "- **RST**: Regressive system tract \n",
    "- **FRST**: Forced regressive system tract "
   ]
  },
  {
   "cell_type": "markdown",
   "metadata": {
    "slideshow": {
     "slide_type": "slide"
    }
   },
   "source": [
    "# Surface processes\n",
    "\n",
    "\n"
   ]
  },
  {
   "cell_type": "code",
   "execution_count": null,
   "metadata": {
    "collapsed": true
   },
   "outputs": [],
   "source": []
  }
 ],
 "metadata": {
  "kernelspec": {
   "display_name": "Python 2",
   "language": "python",
   "name": "python2"
  },
  "language_info": {
   "codemirror_mode": {
    "name": "ipython",
    "version": 2
   },
   "file_extension": ".py",
   "mimetype": "text/x-python",
   "name": "python",
   "nbconvert_exporter": "python",
   "pygments_lexer": "ipython2",
   "version": "2.7.6"
  }
 },
 "nbformat": 4,
 "nbformat_minor": 0
}
